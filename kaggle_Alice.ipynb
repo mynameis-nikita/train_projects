{
 "cells": [
  {
   "cell_type": "markdown",
   "id": "fc6bebb2",
   "metadata": {},
   "source": [
    "# Kaggle competiotion. Catch me if You can (Alice) "
   ]
  },
  {
   "cell_type": "markdown",
   "id": "31ad355a",
   "metadata": {},
   "source": [
    "## Задача:\n",
    "Идентифицировать взломщика по его поведению в сети Интернет. В двух словах, взломщик будет себя вести не так, как владелец ящика.\n",
    "\n",
    "\n",
    "Задача, разработать алгоритм который будет анализировать последовательность из нескольких веб-сайтов, посещенных подряд одним и тем же человеком, и определять, Элис это или взломщик (кто-то другой)."
   ]
  },
  {
   "cell_type": "markdown",
   "id": "0a02ac07",
   "metadata": {},
   "source": [
    "## Данные:\n",
    "__train_sessions.csv:__ обучающая выборка \n",
    "\n",
    "    site_i – это индексы посещенных сайтов (расшифровка дана в pickle-файле со словарем site_dic.pkl)\n",
    "    time_j – время посещения сайтов site_j\n",
    "    target – факт того, что сессия принадлежит Элис (то есть что именно Элис ходила по всем этим сайтам)\n",
    "\n",
    "__test_sessions.csv__ - тестовые данные по которым необходимо определить, принадлежат ли они Элис.\n",
    "\n",
    "__train.zip__ - исходные данные о посещенных пользователями веб-страницах, по которым можно сформировать свою обучающую выборку.\n",
    "\n",
    "__site_dic.pkl__ - расшифровка посещенных сайтов"
   ]
  },
  {
   "cell_type": "markdown",
   "id": "d25db4fa",
   "metadata": {},
   "source": [
    "## 1. Load and prepare Data"
   ]
  },
  {
   "cell_type": "code",
   "execution_count": 178,
   "id": "a1a528f3",
   "metadata": {},
   "outputs": [],
   "source": [
    "import os\n",
    "import re \n",
    "import pickle\n",
    "import datetime\n",
    "import numpy as np\n",
    "import pandas as pd\n",
    "import seaborn as sns\n",
    "import matplotlib.pyplot as plt\n",
    "from scipy.sparse import hstack\n",
    "from sklearn.preprocessing import StandardScaler\n",
    "from sklearn.linear_model import LogisticRegression\n",
    "from sklearn.model_selection import cross_val_score\n",
    "from sklearn.ensemble import GradientBoostingClassifier\n",
    "from sklearn.feature_extraction.text import CountVectorizer\n",
    "from sklearn.feature_extraction.text import TfidfVectorizer"
   ]
  },
  {
   "cell_type": "code",
   "execution_count": 2,
   "id": "9cf6dd60",
   "metadata": {},
   "outputs": [],
   "source": [
    "PATH='/Users/nikita/Desktop/git/data/catch_me/'\n",
    "SEED = 42\n",
    "AUTHOR = 'Nikita_Kozhevatov'"
   ]
  },
  {
   "cell_type": "code",
   "execution_count": 71,
   "id": "e8d7a864",
   "metadata": {},
   "outputs": [],
   "source": [
    "def prepare_parced_data(path_to_train, path_to_test, path_to_dict):\n",
    "    \n",
    "    # let`s load data. columns time1...time10 has str type and need to be parsed.\n",
    "    times = ['time%s' %i for i in np.arange(1,11)]\n",
    "    train_data = pd.read_csv(path_to_train, parse_dates=times, index_col='session_id')\n",
    "    test_data =  pd.read_csv(path_to_test, parse_dates=times, index_col='session_id')\n",
    "    \n",
    "    # as further time_split_crossvalidation will be used it`s better to sort sessions by session start time\n",
    "    train_data = train_data.sort_values(by = 'time1')\n",
    "    \n",
    "    #dictionary with encoded sites\n",
    "    with open(path_to_dict, 'rb') as f: \n",
    "        site_dict = pickle.load(f)\n",
    "    \n",
    "    # dictionary stores data in format 'site_name':'site_id'. It`s more convenient to swap key and value\n",
    "    site_dict = {i:j for (j,i) in site_dict.items()}\n",
    "    site_dict[0] = 'empty'\n",
    "    \n",
    "    # now for all site columns (site1....site10) we can replace site_id with site_name\n",
    "    sites = ['site%s' %i for i in range(1,11)]\n",
    "    train_data[sites] = train_data[sites].fillna(0).astype(int).applymap(lambda x: site_dict[x])\n",
    "    test_data[sites] = test_data[sites].fillna(0).astype(int).applymap(lambda x: site_dict[x])\n",
    "    \n",
    "    return train_data, test_data, sites, times"
   ]
  },
  {
   "cell_type": "code",
   "execution_count": 4,
   "id": "285c321b",
   "metadata": {
    "scrolled": false
   },
   "outputs": [],
   "source": [
    "train_data, test_data, sites, times = (\n",
    "    prepare_parced_data(\n",
    "        path_to_train= os.path.join(PATH,'train_sessions.csv'),\n",
    "        path_to_test = os.path.join(PATH,'test_sessions.csv'),\n",
    "        path_to_dict = os.path.join(PATH, 'site_dic.pkl')\n",
    "    )\n",
    ")"
   ]
  },
  {
   "cell_type": "markdown",
   "id": "ef567ac4",
   "metadata": {},
   "source": [
    "## Logit Model & Support Functions"
   ]
  },
  {
   "cell_type": "code",
   "execution_count": 70,
   "id": "11177d2f",
   "metadata": {},
   "outputs": [],
   "source": [
    "# LOGISTIC REGRESSION HYPERPARAMS\n",
    "logit_params = {'solver': 'liblinear', 'random_state': 42}"
   ]
  },
  {
   "cell_type": "code",
   "execution_count": 24,
   "id": "cbfd7482",
   "metadata": {},
   "outputs": [],
   "source": [
    "def cross_val_on_logit (X_train, y, logit_params):\n",
    "    logit = LogisticRegression(**logit_params)\n",
    "    cv = cross_val_score(logit, X_train, y, cv=5, scoring = 'roc_auc', n_jobs=-1)\n",
    "    print(cv, 'среднее значение на кросс-валидации = ', cv.mean())"
   ]
  },
  {
   "cell_type": "code",
   "execution_count": 34,
   "id": "83a55231",
   "metadata": {},
   "outputs": [],
   "source": [
    "def logit_prediction (X_train, X_test, y, logit_params):\n",
    "    logit = LogisticRegression(**logit_params)\n",
    "    logit.fit(X_train,y)\n",
    "    y_pred = logit.predict_proba(X_test)\n",
    "    return y_pred"
   ]
  },
  {
   "cell_type": "code",
   "execution_count": 65,
   "id": "378d0892",
   "metadata": {},
   "outputs": [],
   "source": [
    "def write_to_submission_file(predicted_labels, out_file, target='target', index_label=\"session_id\"):\n",
    "    predicted_df = pd.DataFrame(\n",
    "        predicted_labels, \n",
    "        index = np.arange(1, predicted_labels.shape[0] + 1), \n",
    "        columns=[target])    \n",
    "    predicted_df.to_csv(out_file, index_label = index_label)"
   ]
  },
  {
   "cell_type": "markdown",
   "id": "04f70321",
   "metadata": {},
   "source": [
    "## 2. Create Baseline Feature (TfidVectorized Site Sessions)"
   ]
  },
  {
   "cell_type": "code",
   "execution_count": 26,
   "id": "68228c69",
   "metadata": {},
   "outputs": [],
   "source": [
    "# В соревновании Kaggle в основном участники отталкиваются от информации о посещенных сайтах\n",
    "# Параметры векторизации посещенных сайтов\n",
    "vectorizer_params = {\n",
    "    'tokenizer': lambda session: session.split(),\n",
    "    'ngram_range': (1,1)\n",
    "#    'max_features': 50000\n",
    "}"
   ]
  },
  {
   "cell_type": "code",
   "execution_count": 73,
   "id": "287b429e",
   "metadata": {},
   "outputs": [],
   "source": [
    "def visited_sites_feature (train_data, test_data, sites, vectorizer_params):\n",
    "    \n",
    "    # Vectorizer recieve Collection of documents so we has to transform sessions into list with users sessions\n",
    "    train_sessions = train_data[sites].apply(lambda row: ' '.join(i for i in row), axis=1).to_list()\n",
    "    test_sessions = test_data[sites].apply(lambda row: ' '.join(i for i in row), axis=1).to_list()\n",
    "    \n",
    "    tfid_vectorizer = TfidfVectorizer(**vectorizer_params)\n",
    "    \n",
    "    # Create sparse_matrix\n",
    "    X_train = tfid_vectorizer.fit_transform(train_sessions)\n",
    "    X_test = tfid_vectorizer.transform(test_sessions)\n",
    "    \n",
    "    return X_train, X_test"
   ]
  },
  {
   "cell_type": "code",
   "execution_count": 28,
   "id": "37acd6b8",
   "metadata": {
    "scrolled": true
   },
   "outputs": [],
   "source": [
    "X_train, X_test = visited_sites_feature(train_data, test_data, sites, vectorizer_params)"
   ]
  },
  {
   "cell_type": "code",
   "execution_count": 30,
   "id": "ad80f5ba",
   "metadata": {},
   "outputs": [],
   "source": [
    "y = train_data['target']"
   ]
  },
  {
   "cell_type": "code",
   "execution_count": 31,
   "id": "ad2cef4f",
   "metadata": {},
   "outputs": [
    {
     "name": "stdout",
     "output_type": "stream",
     "text": [
      "[0.91359045 0.78698162 0.86264159 0.8922654  0.92027923] среднее значение на кросс-валидации =  0.8751516574547319\n"
     ]
    }
   ],
   "source": [
    "cross_val_on_logit (X_train, y, logit_params)"
   ]
  },
  {
   "cell_type": "markdown",
   "id": "222a6fa8",
   "metadata": {},
   "source": [
    "__SUBMISSION (LogisticRegression + Vectorized site sessions):__\n",
    "                        CV_score = 0.875, Kaggle_public = NOT PUBLISHED"
   ]
  },
  {
   "cell_type": "markdown",
   "id": "ba18a546",
   "metadata": {},
   "source": [
    "____"
   ]
  },
  {
   "cell_type": "markdown",
   "id": "f0d34bc1",
   "metadata": {},
   "source": [
    "## Add Feature (Session Start time)"
   ]
  },
  {
   "cell_type": "code",
   "execution_count": 75,
   "id": "8b0e567f",
   "metadata": {},
   "outputs": [
    {
     "data": {
      "image/png": "[encoded data removed]",
      "text/plain": [
       "<Figure size 1000x300 with 2 Axes>"
      ]
     },
     "metadata": {},
     "output_type": "display_data"
    }
   ],
   "source": [
    "# LET`S LOOK AT SESSION TIME DISTRIBUTION AMONG ALL USERS AND ALICE ONLY.\n",
    "session_start_hour = train_data['time1'].apply(lambda x: x.hour)\n",
    "alice_session_start_hour = train_data[train_data['target'] == 1]['time1'].apply(lambda x: x.hour)\n",
    "\n",
    "plt.figure(figsize=(10,3))\n",
    "plt.subplot(1,2,1)\n",
    "sns.countplot(x = session_start_hour)\n",
    "\n",
    "plt.subplot(1,2,2)\n",
    "sns.countplot(x = alice_session_start_hour);"
   ]
  },
  {
   "cell_type": "code",
   "execution_count": 41,
   "id": "4b13db9d",
   "metadata": {},
   "outputs": [],
   "source": [
    "def add_time_features(X, df):\n",
    "    hour = df['time1'].apply(lambda x: x.hour)\n",
    "    morning = ((6 <= hour) & (hour <= 11)).astype(int)\n",
    "    day = ((12 <= hour) & (hour <= 18)).astype(int)\n",
    "    evening = ((19 <= hour) & (hour <= 24)).astype(int)   \n",
    "    X = hstack([X, \n",
    "                morning.values.reshape(-1,1), \n",
    "                day.values.reshape(-1,1), \n",
    "                evening.values.reshape(-1,1)\n",
    "               ])    \n",
    "    return X  "
   ]
  },
  {
   "cell_type": "code",
   "execution_count": 44,
   "id": "56c52b7f",
   "metadata": {},
   "outputs": [],
   "source": [
    "X_train_time = add_time_features(X_train, train_data)\n",
    "X_test_time = add_time_features(X_test, test_data)"
   ]
  },
  {
   "cell_type": "code",
   "execution_count": 45,
   "id": "4b4dd161",
   "metadata": {},
   "outputs": [
    {
     "name": "stdout",
     "output_type": "stream",
     "text": [
      "[0.91804253 0.89172079 0.92869496 0.94783344 0.95167902] среднее значение на кросс-валидации =  0.927594148384347\n"
     ]
    }
   ],
   "source": [
    "cross_val_on_logit (X_train_time, y, logit_params)"
   ]
  },
  {
   "cell_type": "code",
   "execution_count": 47,
   "id": "5f4121dd",
   "metadata": {},
   "outputs": [],
   "source": [
    "y_time_feature = logit_prediction(X_train_time, X_test_time, y, logit_params)"
   ]
  },
  {
   "cell_type": "code",
   "execution_count": 61,
   "id": "39a58564",
   "metadata": {},
   "outputs": [],
   "source": [
    "write_to_submission_file(y_time_feature[:,1], 'logit_with_time.csv')"
   ]
  },
  {
   "cell_type": "markdown",
   "id": "c97d9ced",
   "metadata": {},
   "source": [
    "#### SUBMISSION 2 (LogisticRegression + Vectorized site sessions + Session start time):\n",
    "CV_score = 0.927, Kaggle_public =  0.943"
   ]
  },
  {
   "cell_type": "markdown",
   "id": "50000d19",
   "metadata": {},
   "source": [
    "___"
   ]
  },
  {
   "cell_type": "markdown",
   "id": "29a8c448",
   "metadata": {},
   "source": [
    "## Add Feature (Session DayOfTheWeek)"
   ]
  },
  {
   "cell_type": "code",
   "execution_count": 109,
   "id": "a55cd47d",
   "metadata": {},
   "outputs": [],
   "source": [
    "# LET`S LOOK AT SESSION DISTRIBUTION AMONG DAYS OF WEEK FOR ALL USERS AND ALICE ONLY \n",
    "train_data['week_day'] = train_data['time1'].apply(lambda x: x.weekday())\n",
    "test_data['week_day'] = test_data['time1'].apply(lambda x: x.weekday())"
   ]
  },
  {
   "cell_type": "code",
   "execution_count": 134,
   "id": "c80b8a8f",
   "metadata": {},
   "outputs": [
    {
     "data": {
      "image/png": "[encoded data removed]",
      "text/plain": [
       "<Figure size 1000x300 with 3 Axes>"
      ]
     },
     "metadata": {},
     "output_type": "display_data"
    }
   ],
   "source": [
    "plt.figure(figsize=(10,3))\n",
    "\n",
    "plt.subplot(1,3,1)\n",
    "plt.title('train_data')\n",
    "sns.countplot(x=train_data['week_day'])\n",
    "\n",
    "plt.subplot(1,3,2)\n",
    "plt.title('test_data')\n",
    "sns.countplot(x=test_data['week_day'])\n",
    "\n",
    "plt.subplot(1,3,3)\n",
    "plt.title('Alice_data')\n",
    "sns.countplot(x = train_data[train_data.target == 1]['week_day']);"
   ]
  },
  {
   "cell_type": "code",
   "execution_count": 144,
   "id": "946e6fe6",
   "metadata": {},
   "outputs": [],
   "source": [
    "def day_of_week_feature (X_sparced, df):\n",
    "    X_weekday = hstack([X_sparced, df['time1'].apply(lambda x: x.weekday()).values.reshape(-1,1)])\n",
    "    return X_weekday"
   ]
  },
  {
   "cell_type": "code",
   "execution_count": 147,
   "id": "31185dab",
   "metadata": {},
   "outputs": [],
   "source": [
    "X_train_time_weekday = day_of_week_feature(X_train_time, train_data)\n",
    "X_test_time_weekday = day_of_week_feature(X_test_time, test_data)"
   ]
  },
  {
   "cell_type": "code",
   "execution_count": 149,
   "id": "c4103800",
   "metadata": {},
   "outputs": [
    {
     "name": "stdout",
     "output_type": "stream",
     "text": [
      "[0.90201266 0.83931516 0.9393215  0.9605047  0.96283868] среднее значение на кросс-валидации =  0.9207985417837993\n"
     ]
    }
   ],
   "source": [
    "cross_val_on_logit(X_train_time_weekday, y, logit_params)"
   ]
  },
  {
   "cell_type": "markdown",
   "id": "03b51baf",
   "metadata": {},
   "source": [
    "#### SUBMISSION 3 (LogisticRegression + Vectorized site sessions + Session start time + WeekDay):\n",
    "CV_score = 0.907, Kaggle_public =  NOT PUBLISHED (worse result than without weekday Feature)"
   ]
  },
  {
   "cell_type": "markdown",
   "id": "acd47330",
   "metadata": {},
   "source": [
    "____"
   ]
  },
  {
   "cell_type": "markdown",
   "id": "c63cea16",
   "metadata": {},
   "source": [
    "## Add Feature (Session Duration)"
   ]
  },
  {
   "cell_type": "code",
   "execution_count": 199,
   "id": "751ed7ee",
   "metadata": {},
   "outputs": [],
   "source": [
    "session_duration_train = (train_data[times].max(axis=1) - train_data[times].min(axis=1)).astype(int)\n",
    "session_duration_test = (test_data[times].max(axis=1) - test_data[times].min(axis=1)).astype(int)"
   ]
  },
  {
   "cell_type": "code",
   "execution_count": 200,
   "id": "a43874e4",
   "metadata": {},
   "outputs": [],
   "source": [
    "scaler = StandardScaler()\n",
    "duration_train_scaled = scaler.fit_transform(session_duration_train.values.reshape(-1,1))\n",
    "duration_test_scaled = scaler.transform(session_duration_test.values.reshape(-1,1))"
   ]
  },
  {
   "cell_type": "code",
   "execution_count": 202,
   "id": "03a88497",
   "metadata": {},
   "outputs": [],
   "source": [
    "X_train_time_dur = hstack([X_train_time, duration_train_scaled])\n",
    "X_test_time_dur = hstack([X_test_time, duration_test_scaled])"
   ]
  },
  {
   "cell_type": "code",
   "execution_count": 203,
   "id": "bbbde092",
   "metadata": {},
   "outputs": [
    {
     "name": "stdout",
     "output_type": "stream",
     "text": [
      "[0.9186962  0.89240214 0.9288449  0.94906304 0.95226753] среднее значение на кросс-валидации =  0.9282547607819203\n"
     ]
    }
   ],
   "source": [
    "cross_val_on_logit(X_train_time_dur, y, logit_params)"
   ]
  },
  {
   "cell_type": "code",
   "execution_count": 207,
   "id": "a648aade",
   "metadata": {},
   "outputs": [],
   "source": [
    "y_time_dur_pred = logit_prediction(X_train_time_dur, X_test_time_dur, y, logit_params)"
   ]
  },
  {
   "cell_type": "code",
   "execution_count": 213,
   "id": "592a9930",
   "metadata": {},
   "outputs": [],
   "source": [
    "write_to_submission_file(y_time_dur_pred[:,-1], 'logit_with_time_dur.csv')"
   ]
  },
  {
   "cell_type": "code",
   "execution_count": 214,
   "id": "fc943867",
   "metadata": {},
   "outputs": [],
   "source": [
    "tmp = pd.read_csv('/Users/nikita/Desktop/git/private_repo/logit_with_time_dur.csv')"
   ]
  },
  {
   "cell_type": "code",
   "execution_count": null,
   "id": "6d588086",
   "metadata": {},
   "outputs": [],
   "source": []
  }
 ],
 "metadata": {
  "kernelspec": {
   "display_name": "Python 3 (ipykernel)",
   "language": "python",
   "name": "python3"
  },
  "language_info": {
   "codemirror_mode": {
    "name": "ipython",
    "version": 3
   },
   "file_extension": ".py",
   "mimetype": "text/x-python",
   "name": "python",
   "nbconvert_exporter": "python",
   "pygments_lexer": "ipython3",
   "version": "3.9.13"
  }
 },
 "nbformat": 4,
 "nbformat_minor": 5
}
